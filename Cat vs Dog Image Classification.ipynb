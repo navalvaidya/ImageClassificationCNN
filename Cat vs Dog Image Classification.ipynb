{
 "cells": [
  {
   "cell_type": "markdown",
   "metadata": {
    "id": "zJMGytG6hJDW"
   },
   "source": [
    "**Authol: Naval Vaidya**\n",
    "\n",
    "This is an Image classification problem as part of the kaggle competition given below:\n",
    "https://www.kaggle.com/c/dogs-vs-cats-redux-kernels-edition/overview"
   ]
  },
  {
   "cell_type": "code",
   "execution_count": null,
   "metadata": {
    "id": "xd3aB5YghIf2"
   },
   "outputs": [],
   "source": [
    "# Importing the libraries"
   ]
  },
  {
   "cell_type": "code",
   "execution_count": null,
   "metadata": {
    "id": "AgsefxCmsRhJ"
   },
   "outputs": [],
   "source": [
    "import glob\n",
    "import pandas as pd\n",
    "import numpy as np\n",
    "import os\n",
    "from skimage import io\n",
    "import matplotlib.pyplot as plt\n",
    "from shutil import copyfile\n",
    "import zipfile"
   ]
  },
  {
   "cell_type": "code",
   "execution_count": null,
   "metadata": {
    "id": "a7i2hkz_sRhL",
    "pycharm": {
     "name": "#%%\n"
    }
   },
   "outputs": [],
   "source": [
    "from sklearn.model_selection import train_test_split"
   ]
  },
  {
   "cell_type": "code",
   "execution_count": null,
   "metadata": {
    "id": "BLS-wu1GsRhM",
    "pycharm": {
     "name": "#%%\n"
    }
   },
   "outputs": [],
   "source": [
    "from tensorflow.keras import layers\n",
    "from tensorflow import keras\n",
    "import tensorflow as tf\n",
    "from keras.preprocessing.image import ImageDataGenerator\n",
    "from tensorflow.keras.optimizers import Adam,RMSprop"
   ]
  },
  {
   "cell_type": "markdown",
   "metadata": {
    "id": "oFLfOO87hied"
   },
   "source": [
    "Defining the classes"
   ]
  },
  {
   "cell_type": "code",
   "execution_count": null,
   "metadata": {
    "id": "JAvjBdwRsRhP",
    "pycharm": {
     "name": "#%%\n"
    }
   },
   "outputs": [],
   "source": [
    "class_names = ['cat','dog']"
   ]
  },
  {
   "cell_type": "markdown",
   "metadata": {
    "id": "xXnUCXiHhkXR"
   },
   "source": [
    "#Mounting the drive where data is saved"
   ]
  },
  {
   "cell_type": "code",
   "execution_count": null,
   "metadata": {
    "colab": {
     "base_uri": "https://localhost:8080/"
    },
    "id": "2-Y9T8s0su8-",
    "outputId": "530ab77a-a478-4730-f227-cb37f5e43acc"
   },
   "outputs": [
    {
     "name": "stdout",
     "output_type": "stream",
     "text": [
      "Mounted at /content/drive\n"
     ]
    }
   ],
   "source": [
    "from google.colab import drive\n",
    "drive.mount('/content/drive')"
   ]
  },
  {
   "cell_type": "code",
   "execution_count": null,
   "metadata": {
    "id": "30JCOanNsRhR",
    "pycharm": {
     "name": "#%%\n"
    }
   },
   "outputs": [],
   "source": [
    "test = os.listdir('/content/drive/MyDrive/catvdog')"
   ]
  },
  {
   "cell_type": "code",
   "execution_count": null,
   "metadata": {
    "id": "BL4IIzdruD3i"
   },
   "outputs": [],
   "source": [
    "root = '//content//catvdog//'"
   ]
  },
  {
   "cell_type": "markdown",
   "metadata": {
    "id": "DeL5G1S8htuN"
   },
   "source": [
    "**Creating the folder structure required for the image data generator**\n",
    "\n",
    "Here two folders are created with the class names. Labeled data is moved to its respective class folder"
   ]
  },
  {
   "cell_type": "code",
   "execution_count": null,
   "metadata": {
    "id": "rgMt6EIVsRhc",
    "pycharm": {
     "name": "#%%\n"
    }
   },
   "outputs": [],
   "source": [
    "import shutil\n",
    "\n",
    "# root = 'catvdog'\n",
    "if os.path.exists(root):\n",
    "    shutil.rmtree(root)\n",
    "\n",
    "os.makedirs(root+'/train1')\n",
    "os.makedirs(root+'/train1/cat')\n",
    "os.makedirs(root+'/train1/dog')"
   ]
  },
  {
   "cell_type": "code",
   "execution_count": null,
   "metadata": {
    "id": "uR1E8ojPwjTO"
   },
   "outputs": [],
   "source": [
    "train_zip = '/content/drive/MyDrive/catvdog (1)/train.zip'\n",
    "zip_it   = zipfile.ZipFile(train_zip, 'r')\n",
    "zip_it.extractall('/content/catvdog')\n",
    "zip_it.close()"
   ]
  },
  {
   "cell_type": "code",
   "execution_count": null,
   "metadata": {
    "id": "duXZm-IrUEWd"
   },
   "outputs": [],
   "source": [
    "file_path = os.listdir(os.path.join(root,'train'))"
   ]
  },
  {
   "cell_type": "code",
   "execution_count": null,
   "metadata": {
    "id": "rc1jJ9XxsRhY",
    "pycharm": {
     "name": "#%%\n"
    }
   },
   "outputs": [],
   "source": [
    "target = ['cat' if 'cat' in image else 'dog' for image in file_path]"
   ]
  },
  {
   "cell_type": "code",
   "execution_count": null,
   "metadata": {
    "id": "36fgYKWXU-zR"
   },
   "outputs": [],
   "source": [
    "df = pd.DataFrame({'filename':file_path,'target':target})"
   ]
  },
  {
   "cell_type": "code",
   "execution_count": null,
   "metadata": {
    "id": "YDhcKq0NsRhd",
    "pycharm": {
     "name": "#%%\n"
    }
   },
   "outputs": [],
   "source": [
    "train_cat = df[df['target']=='cat']['filename']\n",
    "train_dog = df[df['target']=='dog']['filename']"
   ]
  },
  {
   "cell_type": "code",
   "execution_count": null,
   "metadata": {
    "colab": {
     "base_uri": "https://localhost:8080/"
    },
    "id": "2OSITFXAWBJi",
    "outputId": "5833b242-66d6-4ab8-c5bf-e166d7d13a31"
   },
   "outputs": [
    {
     "data": {
      "text/plain": [
       "(12500,)"
      ]
     },
     "execution_count": 14,
     "metadata": {},
     "output_type": "execute_result"
    }
   ],
   "source": [
    "train_dog.shape"
   ]
  },
  {
   "cell_type": "code",
   "execution_count": null,
   "metadata": {
    "colab": {
     "base_uri": "https://localhost:8080/"
    },
    "id": "ZqSbkdMgsRhe",
    "outputId": "a435d93c-9bfb-4ffd-ed82-51bd1780a566",
    "pycharm": {
     "name": "#%%\n"
    }
   },
   "outputs": [
    {
     "name": "stdout",
     "output_type": "stream",
     "text": [
      "Number of cat images for training: 12500\n",
      "Number of dog images for training: 12500\n"
     ]
    }
   ],
   "source": [
    "print(\"Number of cat images for training:\",len(train_cat))\n",
    "print(\"Number of dog images for training:\",len(train_dog))\n",
    "\n",
    "# print(\"Number of images for testing:\",len(test))"
   ]
  },
  {
   "cell_type": "code",
   "execution_count": null,
   "metadata": {
    "id": "dQLloUYAsRhf",
    "pycharm": {
     "name": "#%%\n"
    }
   },
   "outputs": [],
   "source": [
    "train_path = os.path.join(root,'train')"
   ]
  },
  {
   "cell_type": "markdown",
   "metadata": {
    "id": "9VjCPCwTiQcS"
   },
   "source": [
    "Moving cat images to cat folder"
   ]
  },
  {
   "cell_type": "code",
   "execution_count": null,
   "metadata": {
    "id": "28O3kFrosRhf",
    "pycharm": {
     "name": "#%%\n"
    }
   },
   "outputs": [],
   "source": [
    "# Copying images to different folder for training\n",
    "for filename in train_cat:\n",
    "    shutil.copyfile(os.path.join(train_path,filename),os.path.join(root,'train1','cat',filename))\n"
   ]
  },
  {
   "cell_type": "markdown",
   "metadata": {
    "id": "6L1zEyVfiTa7"
   },
   "source": [
    "Moving Dog images to dog folder"
   ]
  },
  {
   "cell_type": "code",
   "execution_count": null,
   "metadata": {
    "id": "h1j6WQorsRhg",
    "pycharm": {
     "name": "#%%\n"
    }
   },
   "outputs": [],
   "source": [
    "for filename in train_dog:\n",
    "    shutil.copyfile(os.path.join(train_path,filename),os.path.join(root,'train1','dog',filename))"
   ]
  },
  {
   "cell_type": "code",
   "execution_count": null,
   "metadata": {
    "colab": {
     "base_uri": "https://localhost:8080/"
    },
    "id": "eJ5S4-RqXXaF",
    "outputId": "26274eb4-1f97-42bb-ee52-ec91e571e700"
   },
   "outputs": [
    {
     "data": {
      "text/plain": [
       "12500"
      ]
     },
     "execution_count": 19,
     "metadata": {},
     "output_type": "execute_result"
    }
   ],
   "source": [
    "len(os.listdir(os.path.join(root,'train1','dog')))"
   ]
  },
  {
   "cell_type": "code",
   "execution_count": null,
   "metadata": {
    "colab": {
     "base_uri": "https://localhost:8080/"
    },
    "id": "FqDn_v0fXkrA",
    "outputId": "6843ef5b-50db-4e08-bc07-d6b8f3005657"
   },
   "outputs": [
    {
     "data": {
      "text/plain": [
       "12500"
      ]
     },
     "execution_count": 20,
     "metadata": {},
     "output_type": "execute_result"
    }
   ],
   "source": [
    "len(os.listdir(os.path.join(root,'train1','cat')))"
   ]
  },
  {
   "cell_type": "code",
   "execution_count": null,
   "metadata": {
    "id": "MbIvYb1MsRhh"
   },
   "outputs": [],
   "source": [
    "sample_dog = glob.glob(os.path.join(root,'train1','dog','*.jpg'))"
   ]
  },
  {
   "cell_type": "code",
   "execution_count": null,
   "metadata": {
    "id": "36GJnRcvsRhh"
   },
   "outputs": [],
   "source": [
    "sample_cat = glob.glob(os.path.join(root,'train1','cat','*.jpg'))"
   ]
  },
  {
   "cell_type": "markdown",
   "metadata": {
    "id": "ZppzzQKWiYfn"
   },
   "source": [
    "Sample from the dog folder"
   ]
  },
  {
   "cell_type": "code",
   "execution_count": null,
   "metadata": {
    "colab": {
     "base_uri": "https://localhost:8080/",
     "height": 286
    },
    "id": "jQZN22uisRhi",
    "outputId": "e6c1d653-cc87-4174-d86d-3f83b8d9fa9c",
    "pycharm": {
     "name": "#%%\n"
    }
   },
   "outputs": [
    {
     "data": {
      "text/plain": [
       "<matplotlib.image.AxesImage at 0x7fca499a8850>"
      ]
     },
     "execution_count": 23,
     "metadata": {},
     "output_type": "execute_result"
    },
    {
     "data": {
      "image/png": "[encoded data removed]",
      "text/plain": [
       "<Figure size 1080x288 with 1 Axes>"
      ]
     },
     "metadata": {
      "needs_background": "light"
     },
     "output_type": "display_data"
    }
   ],
   "source": [
    "image = io.imread(sample_dog[3])\n",
    "i, (im1) = plt.subplots(1)\n",
    "i.set_figwidth(15)\n",
    "im1.imshow(image)"
   ]
  },
  {
   "cell_type": "markdown",
   "metadata": {
    "id": "s67tgJYkib0r"
   },
   "source": [
    "Sample from the cat folder"
   ]
  },
  {
   "cell_type": "code",
   "execution_count": null,
   "metadata": {
    "colab": {
     "base_uri": "https://localhost:8080/",
     "height": 286
    },
    "id": "KDywRaVJsRhi",
    "outputId": "6c743338-e664-4cb4-cd57-e8bbb8badd2c",
    "pycharm": {
     "name": "#%%\n"
    }
   },
   "outputs": [
    {
     "data": {
      "text/plain": [
       "<matplotlib.image.AxesImage at 0x7fca499b2450>"
      ]
     },
     "execution_count": 24,
     "metadata": {},
     "output_type": "execute_result"
    },
    {
     "data": {
      "image/png": "[encoded data removed]",
      "text/plain": [
       "<Figure size 1080x288 with 1 Axes>"
      ]
     },
     "metadata": {
      "needs_background": "light"
     },
     "output_type": "display_data"
    }
   ],
   "source": [
    "image = io.imread(sample_cat[3])\n",
    "i, (im1) = plt.subplots(1)\n",
    "i.set_figwidth(15)\n",
    "im1.imshow(image)"
   ]
  },
  {
   "cell_type": "markdown",
   "metadata": {
    "id": "jiIVFo8UijcB"
   },
   "source": [
    "Using ImageDataGenerator to provide input to the model.\n",
    "\n",
    "\n",
    "*   First each pixel is scaled(divide by 255) to get in range of 0 to 1\n",
    "*   Various image augmentation are performed to help in the training process\n",
    "*   A 20% validation split is created\n",
    "\n",
    "\n",
    "\n"
   ]
  },
  {
   "cell_type": "code",
   "execution_count": null,
   "metadata": {
    "id": "fdANcZcdsRhj",
    "pycharm": {
     "name": "#%%\n"
    }
   },
   "outputs": [],
   "source": [
    "train_datagen = ImageDataGenerator(rescale=1. / 255,\n",
    "                                   shear_range=0.2,\n",
    "                                   zoom_range=0.2,\n",
    "                                   horizontal_flip=True,\n",
    "                                   validation_split=0.2\n",
    "                                   )"
   ]
  },
  {
   "cell_type": "markdown",
   "metadata": {
    "id": "M1-1FB3Pi--X"
   },
   "source": [
    "Target image is resized to 150*150\n",
    "\n",
    "Train and Validation generators are used to provide input to the model"
   ]
  },
  {
   "cell_type": "code",
   "execution_count": null,
   "metadata": {
    "colab": {
     "base_uri": "https://localhost:8080/"
    },
    "id": "PKeXBKwSsRhj",
    "outputId": "13dd0b26-a5ea-454c-c221-2d362ab7bdcd",
    "pycharm": {
     "name": "#%%\n"
    }
   },
   "outputs": [
    {
     "name": "stdout",
     "output_type": "stream",
     "text": [
      "Found 20000 images belonging to 2 classes.\n"
     ]
    }
   ],
   "source": [
    "root_train = os.path.join('catvdog','train1')\n",
    "train_generator = train_datagen.flow_from_directory(root_train,\n",
    "                                                    class_mode='binary',\n",
    "                                                    batch_size=64,\n",
    "                                                    target_size=(150,150),\n",
    "                                                    subset='training'\n",
    "                                                    # classes=['dog','cat']\n",
    "                                                    )"
   ]
  },
  {
   "cell_type": "code",
   "execution_count": null,
   "metadata": {
    "colab": {
     "base_uri": "https://localhost:8080/"
    },
    "id": "BgOqDUGdsRhk",
    "outputId": "d6eff701-e3cf-4478-a9e0-0c884c9abdb9",
    "pycharm": {
     "name": "#%%\n"
    }
   },
   "outputs": [
    {
     "name": "stdout",
     "output_type": "stream",
     "text": [
      "Found 5000 images belonging to 2 classes.\n"
     ]
    }
   ],
   "source": [
    "validation_generator = train_datagen.flow_from_directory(root_train,\n",
    "                                                         class_mode='binary',\n",
    "                                                         batch_size=64,\n",
    "                                                         target_size=(150,150),\n",
    "                                                         subset='validation'\n",
    "                                                        #  classes=['dog','cat']\n",
    "                                                         )"
   ]
  },
  {
   "cell_type": "markdown",
   "metadata": {
    "id": "a2iW_IPvjhEV"
   },
   "source": [
    "**Model Training Process**\n",
    "\n",
    "Xception model and transfer learning is used for the classification task of the cat and dog. Xception model is useing weights from the imagenet\n",
    "\n",
    "* include_top is set to False as customized output layer is defined\n",
    "* Activation function \"Sigmoid\" is used as binary classification is performed"
   ]
  },
  {
   "cell_type": "code",
   "execution_count": null,
   "metadata": {
    "colab": {
     "base_uri": "https://localhost:8080/"
    },
    "id": "KyxEFibMsRho",
    "outputId": "4e6f8d16-e1b4-4d1b-f9ce-156bb48ff704",
    "pycharm": {
     "name": "#%%\n"
    }
   },
   "outputs": [
    {
     "name": "stdout",
     "output_type": "stream",
     "text": [
      "Downloading data from https://storage.googleapis.com/tensorflow/keras-applications/xception/xception_weights_tf_dim_ordering_tf_kernels_notop.h5\n",
      "83689472/83683744 [==============================] - 1s 0us/step\n",
      "83697664/83683744 [==============================] - 1s 0us/step\n"
     ]
    }
   ],
   "source": [
    "n_classes = 1\n",
    "base_model = keras.applications.xception.Xception(weights=\"imagenet\",\n",
    "                                                  include_top=False)\n",
    "avg = keras.layers.GlobalAveragePooling2D()(base_model.output)\n",
    "output = keras.layers.Dense(n_classes, activation=\"sigmoid\")(avg)\n",
    "model = keras.models.Model(inputs=base_model.input, outputs=output)"
   ]
  },
  {
   "cell_type": "code",
   "execution_count": null,
   "metadata": {
    "colab": {
     "base_uri": "https://localhost:8080/"
    },
    "id": "TDe6dJcGsRho",
    "outputId": "93fc5934-e291-4fd4-d11d-1495a68dd12e",
    "pycharm": {
     "name": "#%%\n"
    }
   },
   "outputs": [
    {
     "name": "stdout",
     "output_type": "stream",
     "text": [
      "0 input_1\n",
      "1 block1_conv1\n",
      "2 block1_conv1_bn\n",
      "3 block1_conv1_act\n",
      "4 block1_conv2\n",
      "5 block1_conv2_bn\n",
      "6 block1_conv2_act\n",
      "7 block2_sepconv1\n",
      "8 block2_sepconv1_bn\n",
      "9 block2_sepconv2_act\n",
      "10 block2_sepconv2\n",
      "11 block2_sepconv2_bn\n",
      "12 conv2d\n",
      "13 block2_pool\n",
      "14 batch_normalization\n",
      "15 add\n",
      "16 block3_sepconv1_act\n",
      "17 block3_sepconv1\n",
      "18 block3_sepconv1_bn\n",
      "19 block3_sepconv2_act\n",
      "20 block3_sepconv2\n",
      "21 block3_sepconv2_bn\n",
      "22 conv2d_1\n",
      "23 block3_pool\n",
      "24 batch_normalization_1\n",
      "25 add_1\n",
      "26 block4_sepconv1_act\n",
      "27 block4_sepconv1\n",
      "28 block4_sepconv1_bn\n",
      "29 block4_sepconv2_act\n",
      "30 block4_sepconv2\n",
      "31 block4_sepconv2_bn\n",
      "32 conv2d_2\n",
      "33 block4_pool\n",
      "34 batch_normalization_2\n",
      "35 add_2\n",
      "36 block5_sepconv1_act\n",
      "37 block5_sepconv1\n",
      "38 block5_sepconv1_bn\n",
      "39 block5_sepconv2_act\n",
      "40 block5_sepconv2\n",
      "41 block5_sepconv2_bn\n",
      "42 block5_sepconv3_act\n",
      "43 block5_sepconv3\n",
      "44 block5_sepconv3_bn\n",
      "45 add_3\n",
      "46 block6_sepconv1_act\n",
      "47 block6_sepconv1\n",
      "48 block6_sepconv1_bn\n",
      "49 block6_sepconv2_act\n",
      "50 block6_sepconv2\n",
      "51 block6_sepconv2_bn\n",
      "52 block6_sepconv3_act\n",
      "53 block6_sepconv3\n",
      "54 block6_sepconv3_bn\n",
      "55 add_4\n",
      "56 block7_sepconv1_act\n",
      "57 block7_sepconv1\n",
      "58 block7_sepconv1_bn\n",
      "59 block7_sepconv2_act\n",
      "60 block7_sepconv2\n",
      "61 block7_sepconv2_bn\n",
      "62 block7_sepconv3_act\n",
      "63 block7_sepconv3\n",
      "64 block7_sepconv3_bn\n",
      "65 add_5\n",
      "66 block8_sepconv1_act\n",
      "67 block8_sepconv1\n",
      "68 block8_sepconv1_bn\n",
      "69 block8_sepconv2_act\n",
      "70 block8_sepconv2\n",
      "71 block8_sepconv2_bn\n",
      "72 block8_sepconv3_act\n",
      "73 block8_sepconv3\n",
      "74 block8_sepconv3_bn\n",
      "75 add_6\n",
      "76 block9_sepconv1_act\n",
      "77 block9_sepconv1\n",
      "78 block9_sepconv1_bn\n",
      "79 block9_sepconv2_act\n",
      "80 block9_sepconv2\n",
      "81 block9_sepconv2_bn\n",
      "82 block9_sepconv3_act\n",
      "83 block9_sepconv3\n",
      "84 block9_sepconv3_bn\n",
      "85 add_7\n",
      "86 block10_sepconv1_act\n",
      "87 block10_sepconv1\n",
      "88 block10_sepconv1_bn\n",
      "89 block10_sepconv2_act\n",
      "90 block10_sepconv2\n",
      "91 block10_sepconv2_bn\n",
      "92 block10_sepconv3_act\n",
      "93 block10_sepconv3\n",
      "94 block10_sepconv3_bn\n",
      "95 add_8\n",
      "96 block11_sepconv1_act\n",
      "97 block11_sepconv1\n",
      "98 block11_sepconv1_bn\n",
      "99 block11_sepconv2_act\n",
      "100 block11_sepconv2\n",
      "101 block11_sepconv2_bn\n",
      "102 block11_sepconv3_act\n",
      "103 block11_sepconv3\n",
      "104 block11_sepconv3_bn\n",
      "105 add_9\n",
      "106 block12_sepconv1_act\n",
      "107 block12_sepconv1\n",
      "108 block12_sepconv1_bn\n",
      "109 block12_sepconv2_act\n",
      "110 block12_sepconv2\n",
      "111 block12_sepconv2_bn\n",
      "112 block12_sepconv3_act\n",
      "113 block12_sepconv3\n",
      "114 block12_sepconv3_bn\n",
      "115 add_10\n",
      "116 block13_sepconv1_act\n",
      "117 block13_sepconv1\n",
      "118 block13_sepconv1_bn\n",
      "119 block13_sepconv2_act\n",
      "120 block13_sepconv2\n",
      "121 block13_sepconv2_bn\n",
      "122 conv2d_3\n",
      "123 block13_pool\n",
      "124 batch_normalization_3\n",
      "125 add_11\n",
      "126 block14_sepconv1\n",
      "127 block14_sepconv1_bn\n",
      "128 block14_sepconv1_act\n",
      "129 block14_sepconv2\n",
      "130 block14_sepconv2_bn\n",
      "131 block14_sepconv2_act\n"
     ]
    }
   ],
   "source": [
    "for index, layer in enumerate(base_model.layers):\n",
    "    print(index, layer.name)"
   ]
  },
  {
   "cell_type": "code",
   "execution_count": null,
   "metadata": {
    "id": "ZiMo-axgsRho",
    "pycharm": {
     "name": "#%%\n"
    }
   },
   "outputs": [],
   "source": [
    "# dataset_size = info.splits[\"train\"].num_examples\n",
    "dataset_size = 20000\n",
    "batch_size = 64"
   ]
  },
  {
   "cell_type": "markdown",
   "metadata": {
    "id": "Lf-zpGaJkUoj"
   },
   "source": [
    "Initially the pre-trained model layers are frozen and only output layer is trained with 5 epochs\n",
    "\n",
    "After initial training various layers in the pretrained model are trained again"
   ]
  },
  {
   "cell_type": "code",
   "execution_count": null,
   "metadata": {
    "colab": {
     "base_uri": "https://localhost:8080/"
    },
    "id": "uHpDLSdtduu7",
    "outputId": "2cb484d9-088b-4b71-f772-7180bb63fd04"
   },
   "outputs": [
    {
     "name": "stdout",
     "output_type": "stream",
     "text": [
      "Epoch 1/5\n",
      "234/234 [==============================] - 180s 710ms/step - loss: 0.3799 - accuracy: 0.9455 - val_loss: 0.2090 - val_accuracy: 0.9586\n",
      "Epoch 2/5\n",
      "234/234 [==============================] - 162s 691ms/step - loss: 0.1538 - accuracy: 0.9630 - val_loss: 0.1587 - val_accuracy: 0.9558\n",
      "Epoch 3/5\n",
      "234/234 [==============================] - 158s 673ms/step - loss: 0.1278 - accuracy: 0.9625 - val_loss: 0.1769 - val_accuracy: 0.9501\n",
      "Epoch 4/5\n",
      "234/234 [==============================] - 153s 656ms/step - loss: 0.1081 - accuracy: 0.9662 - val_loss: 0.1252 - val_accuracy: 0.9586\n",
      "Epoch 5/5\n",
      "234/234 [==============================] - 160s 685ms/step - loss: 0.0908 - accuracy: 0.9674 - val_loss: 0.1427 - val_accuracy: 0.9565\n"
     ]
    }
   ],
   "source": [
    "for layer in base_model.layers:\n",
    "    layer.trainable = False\n",
    "\n",
    "optimizer = keras.optimizers.SGD(learning_rate=0.2, momentum=0.9, decay=0.01)\n",
    "model.compile(loss=\"binary_crossentropy\", optimizer=optimizer,\n",
    "              metrics=[\"accuracy\"])\n",
    "history = model.fit(train_generator,\n",
    "                    steps_per_epoch=int(0.75 * dataset_size / batch_size),\n",
    "                    validation_data=validation_generator,\n",
    "                    validation_steps=int(0.15 * dataset_size / batch_size),\n",
    "                    epochs=5)"
   ]
  },
  {
   "cell_type": "code",
   "execution_count": null,
   "metadata": {
    "colab": {
     "base_uri": "https://localhost:8080/"
    },
    "id": "uY1KOJj8sRhp",
    "outputId": "1e348565-6db6-44c7-9f92-6ab6a4f84789",
    "pycharm": {
     "name": "#%%\n"
    }
   },
   "outputs": [
    {
     "name": "stdout",
     "output_type": "stream",
     "text": [
      "Epoch 1/25\n",
      "234/234 [==============================] - 292s 1s/step - loss: 0.1255 - accuracy: 0.9497 - val_loss: 0.0723 - val_accuracy: 0.9738\n",
      "Epoch 2/25\n",
      "234/234 [==============================] - 281s 1s/step - loss: 0.0575 - accuracy: 0.9781 - val_loss: 0.0662 - val_accuracy: 0.9755\n",
      "Epoch 3/25\n",
      "234/234 [==============================] - 281s 1s/step - loss: 0.0370 - accuracy: 0.9861 - val_loss: 0.0634 - val_accuracy: 0.9766\n",
      "Epoch 4/25\n",
      "234/234 [==============================] - 282s 1s/step - loss: 0.0262 - accuracy: 0.9908 - val_loss: 0.0694 - val_accuracy: 0.9772\n",
      "Epoch 5/25\n",
      "234/234 [==============================] - 279s 1s/step - loss: 0.0193 - accuracy: 0.9929 - val_loss: 0.0712 - val_accuracy: 0.9762\n",
      "Epoch 6/25\n",
      "234/234 [==============================] - 277s 1s/step - loss: 0.0195 - accuracy: 0.9936 - val_loss: 0.0474 - val_accuracy: 0.9823\n",
      "Epoch 7/25\n",
      "234/234 [==============================] - 280s 1s/step - loss: 0.0148 - accuracy: 0.9952 - val_loss: 0.0538 - val_accuracy: 0.9789\n",
      "Epoch 8/25\n",
      "234/234 [==============================] - 277s 1s/step - loss: 0.0131 - accuracy: 0.9961 - val_loss: 0.0566 - val_accuracy: 0.9776\n",
      "Epoch 9/25\n",
      "234/234 [==============================] - 278s 1s/step - loss: 0.0097 - accuracy: 0.9973 - val_loss: 0.0613 - val_accuracy: 0.9796\n",
      "Epoch 10/25\n",
      "234/234 [==============================] - 278s 1s/step - loss: 0.0067 - accuracy: 0.9980 - val_loss: 0.0604 - val_accuracy: 0.9810\n",
      "Epoch 11/25\n",
      "234/234 [==============================] - 277s 1s/step - loss: 0.0075 - accuracy: 0.9973 - val_loss: 0.0790 - val_accuracy: 0.9769\n",
      "Epoch 12/25\n",
      "234/234 [==============================] - 278s 1s/step - loss: 0.0081 - accuracy: 0.9971 - val_loss: 0.0750 - val_accuracy: 0.9772\n",
      "Epoch 13/25\n",
      "234/234 [==============================] - 278s 1s/step - loss: 0.0057 - accuracy: 0.9979 - val_loss: 0.0742 - val_accuracy: 0.9803\n",
      "Epoch 14/25\n",
      "234/234 [==============================] - 278s 1s/step - loss: 0.0056 - accuracy: 0.9982 - val_loss: 0.0683 - val_accuracy: 0.9827\n",
      "Epoch 15/25\n",
      "234/234 [==============================] - 280s 1s/step - loss: 0.0042 - accuracy: 0.9989 - val_loss: 0.0677 - val_accuracy: 0.9810\n",
      "Epoch 16/25\n",
      "234/234 [==============================] - 280s 1s/step - loss: 0.0048 - accuracy: 0.9986 - val_loss: 0.0788 - val_accuracy: 0.9769\n",
      "Epoch 17/25\n",
      "234/234 [==============================] - 279s 1s/step - loss: 0.0039 - accuracy: 0.9989 - val_loss: 0.0571 - val_accuracy: 0.9840\n",
      "Epoch 18/25\n",
      "234/234 [==============================] - 280s 1s/step - loss: 0.0047 - accuracy: 0.9989 - val_loss: 0.0787 - val_accuracy: 0.9786\n",
      "Epoch 19/25\n",
      "234/234 [==============================] - 280s 1s/step - loss: 0.0047 - accuracy: 0.9986 - val_loss: 0.0594 - val_accuracy: 0.9827\n",
      "Epoch 20/25\n",
      "234/234 [==============================] - 278s 1s/step - loss: 0.0029 - accuracy: 0.9995 - val_loss: 0.0679 - val_accuracy: 0.9783\n",
      "Epoch 21/25\n",
      "234/234 [==============================] - 279s 1s/step - loss: 0.0041 - accuracy: 0.9988 - val_loss: 0.0783 - val_accuracy: 0.9789\n",
      "Epoch 22/25\n",
      "234/234 [==============================] - 279s 1s/step - loss: 0.0044 - accuracy: 0.9987 - val_loss: 0.0764 - val_accuracy: 0.9776\n",
      "Epoch 23/25\n",
      "234/234 [==============================] - 279s 1s/step - loss: 0.0036 - accuracy: 0.9989 - val_loss: 0.0611 - val_accuracy: 0.9823\n",
      "Epoch 24/25\n",
      "234/234 [==============================] - 279s 1s/step - loss: 0.0033 - accuracy: 0.9991 - val_loss: 0.0615 - val_accuracy: 0.9796\n",
      "Epoch 25/25\n",
      "234/234 [==============================] - 279s 1s/step - loss: 0.0032 - accuracy: 0.9990 - val_loss: 0.0667 - val_accuracy: 0.9820\n"
     ]
    }
   ],
   "source": [
    "for layer in base_model.layers:\n",
    "    layer.trainable = True\n",
    "\n",
    "optimizer = keras.optimizers.SGD(learning_rate=0.01, momentum=0.9,\n",
    "                                 nesterov=True, decay=0.001)\n",
    "model.compile(loss=\"binary_crossentropy\", optimizer=optimizer,\n",
    "              metrics=[\"accuracy\"])\n",
    "history = model.fit(train_generator,\n",
    "                    steps_per_epoch=int(0.75 * dataset_size / batch_size),\n",
    "                    validation_data=validation_generator,\n",
    "                    validation_steps=int(0.15 * dataset_size / batch_size),\n",
    "                    epochs=25)"
   ]
  },
  {
   "cell_type": "markdown",
   "metadata": {
    "id": "F3eYQReZkmtz"
   },
   "source": [
    "**Saving the model for usage in future**"
   ]
  },
  {
   "cell_type": "code",
   "execution_count": null,
   "metadata": {
    "colab": {
     "base_uri": "https://localhost:8080/"
    },
    "id": "Hr4NrL4thbNz",
    "outputId": "fa7744c8-c28c-48ad-9d52-0c03b5ffd558"
   },
   "outputs": [
    {
     "name": "stdout",
     "output_type": "stream",
     "text": [
      "INFO:tensorflow:Assets written to: //content//sample_data//model_catvdogtransfer/assets\n",
      "INFO:tensorflow:Assets written to: //content//drive//MyDrive//catvdog//model_catvdogtransfer/assets\n"
     ]
    }
   ],
   "source": [
    "model.save_weights('//content//sample_data//model_catvdog_wtransfer')\n",
    "model.save('//content//sample_data//model_catvdogtransfer')\n",
    "\n",
    "model.save_weights('//content//drive//MyDrive//catvdog//model_catvdog_wtransfer')\n",
    "model.save('//content//drive//MyDrive//catvdog//model_catvdogtransfer')"
   ]
  },
  {
   "cell_type": "markdown",
   "metadata": {
    "id": "rj506I3LktC7"
   },
   "source": [
    "**Loading the saved model**"
   ]
  },
  {
   "cell_type": "code",
   "execution_count": null,
   "metadata": {
    "id": "ImWtlll5d4bK"
   },
   "outputs": [],
   "source": [
    "model = keras.models.load_model('/content/drive/MyDrive/catvdog/model_catvdogtransfer')"
   ]
  },
  {
   "cell_type": "markdown",
   "metadata": {
    "id": "YHTopwcCkyi2"
   },
   "source": [
    "**Testing the model on new images**"
   ]
  },
  {
   "cell_type": "code",
   "execution_count": null,
   "metadata": {
    "id": "V6q_rGYqsRhp",
    "pycharm": {
     "name": "#%%\n"
    }
   },
   "outputs": [],
   "source": [
    "test_zip = '/content/drive/MyDrive/catvdog (1)/test.zip'\n",
    "zip_it   = zipfile.ZipFile(test_zip, 'r')\n",
    "zip_it.extractall('/content/catvdog/test_data')\n",
    "zip_it.close()"
   ]
  },
  {
   "cell_type": "code",
   "execution_count": null,
   "metadata": {
    "id": "UvReFZ95eNXn"
   },
   "outputs": [],
   "source": [
    "root_test = os.path.join('catvdog','test_data')"
   ]
  },
  {
   "cell_type": "code",
   "execution_count": null,
   "metadata": {
    "id": "2JjJHNDieCvq"
   },
   "outputs": [],
   "source": [
    "test_datagen = ImageDataGenerator(rescale=1./255)"
   ]
  },
  {
   "cell_type": "code",
   "execution_count": null,
   "metadata": {
    "colab": {
     "base_uri": "https://localhost:8080/"
    },
    "id": "GDFL8OVBd2V1",
    "outputId": "48cf97ed-e349-4d8b-c694-f88a7e1c140f"
   },
   "outputs": [
    {
     "name": "stdout",
     "output_type": "stream",
     "text": [
      "Found 12500 images belonging to 1 classes.\n"
     ]
    }
   ],
   "source": [
    "test_generator = test_datagen.flow_from_directory(root_test,\n",
    "                                                  class_mode=None,\n",
    "                                                  batch_size=64,\n",
    "                                                  # color_mode=\"rgb\",\n",
    "                                                  target_size=(150,150),\n",
    "                                                  shuffle=False)"
   ]
  },
  {
   "cell_type": "code",
   "execution_count": null,
   "metadata": {
    "id": "OXeOPjwTgOWa"
   },
   "outputs": [],
   "source": [
    "test_generator.reset()"
   ]
  },
  {
   "cell_type": "code",
   "execution_count": null,
   "metadata": {
    "id": "r92t2Cm-g69_"
   },
   "outputs": [],
   "source": [
    "step_size = len(os.listdir(os.path.join(root_test,'test')))/batch_size"
   ]
  },
  {
   "cell_type": "code",
   "execution_count": null,
   "metadata": {
    "colab": {
     "base_uri": "https://localhost:8080/"
    },
    "id": "J4KfLFDagRHw",
    "outputId": "67152a8b-2345-44cd-dc38-0f7b0372bd69"
   },
   "outputs": [
    {
     "name": "stderr",
     "output_type": "stream",
     "text": [
      "/usr/local/lib/python3.7/dist-packages/ipykernel_launcher.py:1: UserWarning: `Model.predict_generator` is deprecated and will be removed in a future version. Please use `Model.predict`, which supports generators.\n",
      "  \"\"\"Entry point for launching an IPython kernel.\n"
     ]
    },
    {
     "name": "stdout",
     "output_type": "stream",
     "text": [
      "195/195 [==============================] - 68s 298ms/step\n"
     ]
    }
   ],
   "source": [
    "y_pred = model.predict_generator(test_generator,verbose=1,steps=step_size)"
   ]
  },
  {
   "cell_type": "code",
   "execution_count": null,
   "metadata": {
    "colab": {
     "base_uri": "https://localhost:8080/"
    },
    "id": "UC-OMY8Smmes",
    "outputId": "b75bbace-f399-46e8-c1d9-735be379f6c6"
   },
   "outputs": [
    {
     "data": {
      "text/plain": [
       "12500"
      ]
     },
     "execution_count": 17,
     "metadata": {},
     "output_type": "execute_result"
    }
   ],
   "source": [
    "len(y_pred)"
   ]
  },
  {
   "cell_type": "code",
   "execution_count": null,
   "metadata": {
    "id": "6TC5XRaunMBC"
   },
   "outputs": [],
   "source": [
    "pred_label = [(pred[0]) for pred in y_pred]"
   ]
  },
  {
   "cell_type": "code",
   "execution_count": null,
   "metadata": {
    "colab": {
     "base_uri": "https://localhost:8080/"
    },
    "id": "AkBgmIabnOJo",
    "outputId": "8dc5b863-510a-4091-9ece-ea05b9132752"
   },
   "outputs": [
    {
     "data": {
      "text/plain": [
       "12500"
      ]
     },
     "execution_count": 19,
     "metadata": {},
     "output_type": "execute_result"
    }
   ],
   "source": [
    "len(test_generator.filenames)"
   ]
  },
  {
   "cell_type": "code",
   "execution_count": null,
   "metadata": {
    "id": "6yQtZPEVeOc0"
   },
   "outputs": [],
   "source": [
    "pflie = [int(test_generator.filenames[i][5:].split('.')[0]) for i in range(0,len(pred_label))]"
   ]
  },
  {
   "cell_type": "code",
   "execution_count": null,
   "metadata": {
    "colab": {
     "base_uri": "https://localhost:8080/",
     "height": 424
    },
    "id": "9VvfQlKkhSUu",
    "outputId": "85cee01a-114b-461f-f282-1f56e1e5f043"
   },
   "outputs": [
    {
     "data": {
      "text/html": [
       "\n",
       "  <div id=\"df-2dd3e61e-f79e-4ba0-8d44-ce6be0e529a9\">\n",
       "    <div class=\"colab-df-container\">\n",
       "      <div>\n",
       "<style scoped>\n",
       "    .dataframe tbody tr th:only-of-type {\n",
       "        vertical-align: middle;\n",
       "    }\n",
       "\n",
       "    .dataframe tbody tr th {\n",
       "        vertical-align: top;\n",
       "    }\n",
       "\n",
       "    .dataframe thead th {\n",
       "        text-align: right;\n",
       "    }\n",
       "</style>\n",
       "<table border=\"1\" class=\"dataframe\">\n",
       "  <thead>\n",
       "    <tr style=\"text-align: right;\">\n",
       "      <th></th>\n",
       "      <th>id</th>\n",
       "      <th>label</th>\n",
       "    </tr>\n",
       "  </thead>\n",
       "  <tbody>\n",
       "    <tr>\n",
       "      <th>0</th>\n",
       "      <td>1</td>\n",
       "      <td>9.999999e-01</td>\n",
       "    </tr>\n",
       "    <tr>\n",
       "      <th>1</th>\n",
       "      <td>10</td>\n",
       "      <td>6.944187e-06</td>\n",
       "    </tr>\n",
       "    <tr>\n",
       "      <th>2</th>\n",
       "      <td>100</td>\n",
       "      <td>6.993531e-09</td>\n",
       "    </tr>\n",
       "    <tr>\n",
       "      <th>3</th>\n",
       "      <td>1000</td>\n",
       "      <td>9.999999e-01</td>\n",
       "    </tr>\n",
       "    <tr>\n",
       "      <th>4</th>\n",
       "      <td>10000</td>\n",
       "      <td>9.999998e-01</td>\n",
       "    </tr>\n",
       "    <tr>\n",
       "      <th>...</th>\n",
       "      <td>...</td>\n",
       "      <td>...</td>\n",
       "    </tr>\n",
       "    <tr>\n",
       "      <th>12495</th>\n",
       "      <td>9995</td>\n",
       "      <td>7.620825e-06</td>\n",
       "    </tr>\n",
       "    <tr>\n",
       "      <th>12496</th>\n",
       "      <td>9996</td>\n",
       "      <td>9.992996e-01</td>\n",
       "    </tr>\n",
       "    <tr>\n",
       "      <th>12497</th>\n",
       "      <td>9997</td>\n",
       "      <td>9.999995e-01</td>\n",
       "    </tr>\n",
       "    <tr>\n",
       "      <th>12498</th>\n",
       "      <td>9998</td>\n",
       "      <td>1.507226e-07</td>\n",
       "    </tr>\n",
       "    <tr>\n",
       "      <th>12499</th>\n",
       "      <td>9999</td>\n",
       "      <td>4.358483e-03</td>\n",
       "    </tr>\n",
       "  </tbody>\n",
       "</table>\n",
       "<p>12500 rows × 2 columns</p>\n",
       "</div>\n",
       "      <button class=\"colab-df-convert\" onclick=\"convertToInteractive('df-2dd3e61e-f79e-4ba0-8d44-ce6be0e529a9')\"\n",
       "              title=\"Convert this dataframe to an interactive table.\"\n",
       "              style=\"display:none;\">\n",
       "        \n",
       "  <svg xmlns=\"http://www.w3.org/2000/svg\" height=\"24px\"viewBox=\"0 0 24 24\"\n",
       "       width=\"24px\">\n",
       "    <path d=\"M0 0h24v24H0V0z\" fill=\"none\"/>\n",
       "    <path d=\"M18.56 5.44l.94 2.06.94-2.06 2.06-.94-2.06-.94-.94-2.06-.94 2.06-2.06.94zm-11 1L8.5 8.5l.94-2.06 2.06-.94-2.06-.94L8.5 2.5l-.94 2.06-2.06.94zm10 10l.94 2.06.94-2.06 2.06-.94-2.06-.94-.94-2.06-.94 2.06-2.06.94z\"/><path d=\"M17.41 7.96l-1.37-1.37c-.4-.4-.92-.59-1.43-.59-.52 0-1.04.2-1.43.59L10.3 9.45l-7.72 7.72c-.78.78-.78 2.05 0 2.83L4 21.41c.39.39.9.59 1.41.59.51 0 1.02-.2 1.41-.59l7.78-7.78 2.81-2.81c.8-.78.8-2.07 0-2.86zM5.41 20L4 18.59l7.72-7.72 1.47 1.35L5.41 20z\"/>\n",
       "  </svg>\n",
       "      </button>\n",
       "      \n",
       "  <style>\n",
       "    .colab-df-container {\n",
       "      display:flex;\n",
       "      flex-wrap:wrap;\n",
       "      gap: 12px;\n",
       "    }\n",
       "\n",
       "    .colab-df-convert {\n",
       "      background-color: #E8F0FE;\n",
       "      border: none;\n",
       "      border-radius: 50%;\n",
       "      cursor: pointer;\n",
       "      display: none;\n",
       "      fill: #1967D2;\n",
       "      height: 32px;\n",
       "      padding: 0 0 0 0;\n",
       "      width: 32px;\n",
       "    }\n",
       "\n",
       "    .colab-df-convert:hover {\n",
       "      background-color: #E2EBFA;\n",
       "      box-shadow: 0px 1px 2px rgba(60, 64, 67, 0.3), 0px 1px 3px 1px rgba(60, 64, 67, 0.15);\n",
       "      fill: #174EA6;\n",
       "    }\n",
       "\n",
       "    [theme=dark] .colab-df-convert {\n",
       "      background-color: #3B4455;\n",
       "      fill: #D2E3FC;\n",
       "    }\n",
       "\n",
       "    [theme=dark] .colab-df-convert:hover {\n",
       "      background-color: #434B5C;\n",
       "      box-shadow: 0px 1px 3px 1px rgba(0, 0, 0, 0.15);\n",
       "      filter: drop-shadow(0px 1px 2px rgba(0, 0, 0, 0.3));\n",
       "      fill: #FFFFFF;\n",
       "    }\n",
       "  </style>\n",
       "\n",
       "      <script>\n",
       "        const buttonEl =\n",
       "          document.querySelector('#df-2dd3e61e-f79e-4ba0-8d44-ce6be0e529a9 button.colab-df-convert');\n",
       "        buttonEl.style.display =\n",
       "          google.colab.kernel.accessAllowed ? 'block' : 'none';\n",
       "\n",
       "        async function convertToInteractive(key) {\n",
       "          const element = document.querySelector('#df-2dd3e61e-f79e-4ba0-8d44-ce6be0e529a9');\n",
       "          const dataTable =\n",
       "            await google.colab.kernel.invokeFunction('convertToInteractive',\n",
       "                                                     [key], {});\n",
       "          if (!dataTable) return;\n",
       "\n",
       "          const docLinkHtml = 'Like what you see? Visit the ' +\n",
       "            '<a target=\"_blank\" href=https://colab.research.google.com/notebooks/data_table.ipynb>data table notebook</a>'\n",
       "            + ' to learn more about interactive tables.';\n",
       "          element.innerHTML = '';\n",
       "          dataTable['output_type'] = 'display_data';\n",
       "          await google.colab.output.renderOutput(dataTable, element);\n",
       "          const docLink = document.createElement('div');\n",
       "          docLink.innerHTML = docLinkHtml;\n",
       "          element.appendChild(docLink);\n",
       "        }\n",
       "      </script>\n",
       "    </div>\n",
       "  </div>\n",
       "  "
      ],
      "text/plain": [
       "          id         label\n",
       "0          1  9.999999e-01\n",
       "1         10  6.944187e-06\n",
       "2        100  6.993531e-09\n",
       "3       1000  9.999999e-01\n",
       "4      10000  9.999998e-01\n",
       "...      ...           ...\n",
       "12495   9995  7.620825e-06\n",
       "12496   9996  9.992996e-01\n",
       "12497   9997  9.999995e-01\n",
       "12498   9998  1.507226e-07\n",
       "12499   9999  4.358483e-03\n",
       "\n",
       "[12500 rows x 2 columns]"
      ]
     },
     "execution_count": 21,
     "metadata": {},
     "output_type": "execute_result"
    }
   ],
   "source": [
    "df_pred = pd.DataFrame({'id':pflie,'label':pred_label})\n",
    "df_pred"
   ]
  },
  {
   "cell_type": "code",
   "execution_count": null,
   "metadata": {
    "id": "S96Ui7GLsNT1"
   },
   "outputs": [],
   "source": [
    "df_pred.to_csv('CatVsDogResults_NavalVaidya.csv',index=False)"
   ]
  },
  {
   "cell_type": "code",
   "execution_count": null,
   "metadata": {
    "id": "7syjp4IIMLoo"
   },
   "outputs": [],
   "source": []
  }
 ],
 "metadata": {
  "accelerator": "GPU",
  "colab": {
   "collapsed_sections": [],
   "name": "HW4q2_v3.ipynb",
   "provenance": []
  },
  "kernelspec": {
   "display_name": "Python 3",
   "language": "python",
   "name": "python3"
  },
  "language_info": {
   "codemirror_mode": {
    "name": "ipython",
    "version": 3
   },
   "file_extension": ".py",
   "mimetype": "text/x-python",
   "name": "python",
   "nbconvert_exporter": "python",
   "pygments_lexer": "ipython3",
   "version": "3.8.8"
  }
 },
 "nbformat": 4,
 "nbformat_minor": 1
}
